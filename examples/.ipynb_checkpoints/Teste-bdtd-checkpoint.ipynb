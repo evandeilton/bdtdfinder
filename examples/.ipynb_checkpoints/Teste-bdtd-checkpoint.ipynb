{
 "cells": [
  {
   "cell_type": "code",
   "execution_count": 3,
   "id": "141a877c",
   "metadata": {},
   "outputs": [],
   "source": [
    "# !pip install streamlit"
   ]
  },
  {
   "cell_type": "code",
   "execution_count": 4,
   "id": "51c2e882-73ea-4530-9c07-5f51c57e6446",
   "metadata": {},
   "outputs": [
    {
     "ename": "ModuleNotFoundError",
     "evalue": "No module named 'bdtdfinder'",
     "output_type": "error",
     "traceback": [
      "\u001b[0;31m---------------------------------------------------------------------------\u001b[0m",
      "\u001b[0;31mModuleNotFoundError\u001b[0m                       Traceback (most recent call last)",
      "\u001b[0;32m/tmp/ipykernel_14177/3345741307.py\u001b[0m in \u001b[0;36m<module>\u001b[0;34m\u001b[0m\n\u001b[1;32m      1\u001b[0m \u001b[0;32mimport\u001b[0m \u001b[0mos\u001b[0m\u001b[0;34m\u001b[0m\u001b[0;34m\u001b[0m\u001b[0m\n\u001b[1;32m      2\u001b[0m \u001b[0;32mimport\u001b[0m \u001b[0mstreamlit\u001b[0m \u001b[0;32mas\u001b[0m \u001b[0mst\u001b[0m\u001b[0;34m\u001b[0m\u001b[0;34m\u001b[0m\u001b[0m\n\u001b[0;32m----> 3\u001b[0;31m \u001b[0;32mfrom\u001b[0m \u001b[0mbdtdfinder\u001b[0m\u001b[0;34m.\u001b[0m\u001b[0mBDTDUi\u001b[0m \u001b[0;32mimport\u001b[0m \u001b[0mcreate_ui\u001b[0m\u001b[0;34m\u001b[0m\u001b[0;34m\u001b[0m\u001b[0m\n\u001b[0m\u001b[1;32m      4\u001b[0m \u001b[0;32mfrom\u001b[0m \u001b[0mbdtdfinder\u001b[0m\u001b[0;34m.\u001b[0m\u001b[0mBDTDReviewer\u001b[0m \u001b[0;32mimport\u001b[0m \u001b[0mBDTDReviewer\u001b[0m\u001b[0;34m\u001b[0m\u001b[0;34m\u001b[0m\u001b[0m\n\u001b[1;32m      5\u001b[0m \u001b[0;34m\u001b[0m\u001b[0m\n",
      "\u001b[0;31mModuleNotFoundError\u001b[0m: No module named 'bdtdfinder'"
     ]
    }
   ],
   "source": [
    "import os\n",
    "import streamlit as st\n",
    "from bdtdfinder.BDTDUi import create_ui\n",
    "from bdtdfinder.BDTDReviewer import BDTDReviewer\n",
    "\n",
    "# Ensure the API key is set\n",
    "if not os.environ.get(\"OPENROUTER_API_KEY\"):\n",
    "    raise EnvironmentError(\"OPENROUTER_API_KEY environment variable not set.\")"
   ]
  },
  {
   "cell_type": "code",
   "execution_count": null,
   "id": "2d39d8de-6325-4d0d-8b07-80fa08e93bd4",
   "metadata": {},
   "outputs": [],
   "source": [
    "# Create a BDTDReviewer instance with your parameters\n",
    "reviewer = BDTDReviewer(\n",
    "    theme=\"regressão beta\",\n",
    "    output_lang=\"pt-BR\",\n",
    "    max_pages=1,              # Maximum pages to crawl\n",
    "    max_title_review=2,       # Maximum number of titles to process\n",
    "    download_pdfs=False,      # Set to True to download PDFs\n",
    "    scrape_text=True,         # Enable text scraping from webpages\n",
    "    output_dir=\"results\",     # Custom output directory\n",
    "    debug=True,               # Enable debug mode for detailed logs\n",
    "    model=\"google/gemini-2.0-pro-exp-02-05:free\"\n",
    ")"
   ]
  },
  {
   "cell_type": "code",
   "execution_count": null,
   "id": "2825718e-1cdc-4a6b-a062-420a338415b7",
   "metadata": {},
   "outputs": [],
   "source": [
    "# Run the review process\n",
    "output_file = reviewer.run()\n",
    "print(f\"Literature review saved in: {output_file}\")"
   ]
  },
  {
   "cell_type": "code",
   "execution_count": 15,
   "id": "83588089-b909-4387-a4cf-40e5319d6636",
   "metadata": {},
   "outputs": [
    {
     "ename": "SyntaxError",
     "evalue": "invalid syntax (1595594410.py, line 1)",
     "output_type": "error",
     "traceback": [
      "\u001b[0;36m  Cell \u001b[0;32mIn[15], line 1\u001b[0;36m\u001b[0m\n\u001b[0;31m    streamlit run BDTDUi\u001b[0m\n\u001b[0m              ^\u001b[0m\n\u001b[0;31mSyntaxError\u001b[0m\u001b[0;31m:\u001b[0m invalid syntax\n"
     ]
    }
   ],
   "source": [
    "streamlit run BDTDUi"
   ]
  },
  {
   "cell_type": "code",
   "execution_count": 4,
   "id": "f770cc21-0ff0-40ae-b513-db0205941435",
   "metadata": {},
   "outputs": [],
   "source": [
    "#!pip install streamlit"
   ]
  },
  {
   "cell_type": "code",
   "execution_count": 12,
   "id": "566943f0-1a1b-47d1-9775-3da1a05eb29e",
   "metadata": {},
   "outputs": [
    {
     "data": {
      "text/plain": [
       "<module 'streamlit' from '/home/jlopes/anaconda3/lib/python3.11/site-packages/streamlit/__init__.py'>"
      ]
     },
     "execution_count": 12,
     "metadata": {},
     "output_type": "execute_result"
    }
   ],
   "source": [
    "streamlit"
   ]
  }
 ],
 "metadata": {
  "kernelspec": {
   "display_name": "Python 3 (ipykernel)",
   "language": "python",
   "name": "python3"
  },
  "language_info": {
   "codemirror_mode": {
    "name": "ipython",
    "version": 3
   },
   "file_extension": ".py",
   "mimetype": "text/x-python",
   "name": "python",
   "nbconvert_exporter": "python",
   "pygments_lexer": "ipython3",
   "version": "3.11.11"
  }
 },
 "nbformat": 4,
 "nbformat_minor": 5
}
