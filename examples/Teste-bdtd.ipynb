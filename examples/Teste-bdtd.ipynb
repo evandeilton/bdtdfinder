{
 "cells": [
  {
   "cell_type": "code",
   "execution_count": 3,
   "id": "141a877c",
   "metadata": {},
   "outputs": [],
   "source": [
    "# !pip install streamlit"
   ]
  },
  {
   "cell_type": "code",
   "execution_count": 1,
   "id": "9865fb04",
   "metadata": {},
   "outputs": [
    {
     "name": "stdout",
     "output_type": "stream",
     "text": [
      "BDTDReviewer imported and initialized successfully!\n"
     ]
    }
   ],
   "source": [
    "# from bdtdfinder.BDTDReviewer import BDTDReviewer\n",
    "\n",
    "# # Create an instance of the BDTDReviewer class\n",
    "# reviewer = BDTDReviewer(theme=\"test\", output_lang=\"pt-BR\", openrouter_api_key=\"YOUR_API_KEY\")\n",
    "\n",
    "# print(\"BDTDReviewer imported and initialized successfully!\")"
   ]
  },
  {
   "cell_type": "code",
   "execution_count": 2,
   "id": "51c2e882-73ea-4530-9c07-5f51c57e6446",
   "metadata": {},
   "outputs": [
    {
     "ename": "OSError",
     "evalue": "OPENROUTER_API_KEY environment variable not set.",
     "output_type": "error",
     "traceback": [
      "\u001b[0;31m---------------------------------------------------------------------------\u001b[0m",
      "\u001b[0;31mOSError\u001b[0m                                   Traceback (most recent call last)",
      "Cell \u001b[0;32mIn[2], line 8\u001b[0m\n\u001b[1;32m      6\u001b[0m \u001b[38;5;66;03m# Ensure the API key is set\u001b[39;00m\n\u001b[1;32m      7\u001b[0m \u001b[38;5;28;01mif\u001b[39;00m \u001b[38;5;129;01mnot\u001b[39;00m os\u001b[38;5;241m.\u001b[39menviron\u001b[38;5;241m.\u001b[39mget(\u001b[38;5;124m\"\u001b[39m\u001b[38;5;124mOPENROUTER_API_KEY\u001b[39m\u001b[38;5;124m\"\u001b[39m):\n\u001b[0;32m----> 8\u001b[0m     \u001b[38;5;28;01mraise\u001b[39;00m \u001b[38;5;167;01mEnvironmentError\u001b[39;00m(\u001b[38;5;124m\"\u001b[39m\u001b[38;5;124mOPENROUTER_API_KEY environment variable not set.\u001b[39m\u001b[38;5;124m\"\u001b[39m)\n",
      "\u001b[0;31mOSError\u001b[0m: OPENROUTER_API_KEY environment variable not set."
     ]
    }
   ],
   "source": [
    "import os\n",
    "import streamlit as st\n",
    "from bdtdfinder.BDTDUi import create_ui\n",
    "from bdtdfinder.BDTDReviewer import BDTDReviewer\n",
    "\n",
    "# Ensure the API key is set\n",
    "if not os.environ.get(\"OPENROUTER_API_KEY\"):\n",
    "    raise EnvironmentError(\"OPENROUTER_API_KEY environment variable not set.\")"
   ]
  },
  {
   "cell_type": "code",
   "execution_count": null,
   "id": "2d39d8de-6325-4d0d-8b07-80fa08e93bd4",
   "metadata": {},
   "outputs": [],
   "source": [
    "# Create a BDTDReviewer instance with your parameters\n",
    "reviewer = BDTDReviewer(\n",
    "    theme=\"regressão beta\",\n",
    "    output_lang=\"pt-BR\",\n",
    "    max_pages=1,              # Maximum pages to crawl\n",
    "    max_title_review=2,       # Maximum number of titles to process\n",
    "    download_pdfs=False,      # Set to True to download PDFs\n",
    "    scrape_text=True,         # Enable text scraping from webpages\n",
    "    output_dir=\"results\",     # Custom output directory\n",
    "    debug=True,               # Enable debug mode for detailed logs\n",
    "    model=\"google/gemini-2.0-pro-exp-02-05:free\"\n",
    ")"
   ]
  },
  {
   "cell_type": "code",
   "execution_count": null,
   "id": "2825718e-1cdc-4a6b-a062-420a338415b7",
   "metadata": {},
   "outputs": [],
   "source": [
    "# Run the review process\n",
    "output_file = reviewer.run()\n",
    "print(f\"Literature review saved in: {output_file}\")"
   ]
  },
  {
   "cell_type": "code",
   "execution_count": 15,
   "id": "83588089-b909-4387-a4cf-40e5319d6636",
   "metadata": {},
   "outputs": [
    {
     "ename": "SyntaxError",
     "evalue": "invalid syntax (1595594410.py, line 1)",
     "output_type": "error",
     "traceback": [
      "\u001b[0;36m  Cell \u001b[0;32mIn[15], line 1\u001b[0;36m\u001b[0m\n\u001b[0;31m    streamlit run BDTDUi\u001b[0m\n\u001b[0m              ^\u001b[0m\n\u001b[0;31mSyntaxError\u001b[0m\u001b[0;31m:\u001b[0m invalid syntax\n"
     ]
    }
   ],
   "source": []
  },
  {
   "cell_type": "code",
   "execution_count": 4,
   "id": "f770cc21-0ff0-40ae-b513-db0205941435",
   "metadata": {},
   "outputs": [],
   "source": [
    "#!pip install streamlit"
   ]
  },
  {
   "cell_type": "code",
   "execution_count": 12,
   "id": "566943f0-1a1b-47d1-9775-3da1a05eb29e",
   "metadata": {},
   "outputs": [
    {
     "data": {
      "text/plain": [
       "<module 'streamlit' from '/home/jlopes/anaconda3/lib/python3.11/site-packages/streamlit/__init__.py'>"
      ]
     },
     "execution_count": 12,
     "metadata": {},
     "output_type": "execute_result"
    }
   ],
   "source": []
  }
 ],
 "metadata": {
  "kernelspec": {
   "display_name": "datascience",
   "language": "python",
   "name": "python3"
  },
  "language_info": {
   "codemirror_mode": {
    "name": "ipython",
    "version": 3
   },
   "file_extension": ".py",
   "mimetype": "text/x-python",
   "name": "python",
   "nbconvert_exporter": "python",
   "pygments_lexer": "ipython3",
   "version": "3.11.11"
  }
 },
 "nbformat": 4,
 "nbformat_minor": 5
}
