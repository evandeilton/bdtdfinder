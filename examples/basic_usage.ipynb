{
 "cells": [
  {
   "cell_type": "markdown",
   "metadata": {},
   "source": [
    "# BDTD Research Agent & Reviewer - Basic Usage\n",
    "\n",
    "This notebook demonstrates the basic usage of the BDTD Research Agent & Reviewer library."
   ]
  },
  {
   "cell_type": "code",
   "execution_count": null,
   "metadata": {},
   "outputs": [],
   "source": [
    "import os\n",
    "from bdtdfinder import BDTDReviewer\n",
    "\n",
    "# Ensure you have set your OpenRouter API key\n",
    "if not os.environ.get(\"OPENROUTER_API_KEY\"):\n",
    "    raise EnvironmentError(\"OPENROUTER_API_KEY environment variable not set.\")"
   ]
  },
  {
   "cell_type": "code",
   "execution_count": null,
   "metadata": {},
   "outputs": [],
   "source": [
    "# Create reviewer instance\n",
    "reviewer = BDTDReviewer(\n",
    "    theme=\"regressão beta\",\n",
    "    output_lang=\"pt-BR\",\n",
    "    max_pages=1,\n",
    "    max_title_review=2,\n",
    "    download_pdfs=False,\n",
    "    scrape_text=True,\n",
    "    output_dir=\"example_output\",\n",
    "    debug=True\n",
    ")"
   ]
  },
  {
   "cell_type": "code",
   "execution_count": null,
   "metadata": {},
   "outputs": [],
   "source": [
    "# Run the review process\n",
    "output_file = reviewer.run()\n",
    "print(f\"Review saved to: {output_file}\")"
   ]
  },
  {
   "cell_type": "code",
   "execution_count": null,
   "metadata": {},
   "outputs": [],
   "source": [
    "# Read and display the review\n",
    "with open(output_file, 'r', encoding='utf-8') as f:\n",
    "    print(f.read())"
   ]
  }
 ],
 "metadata": {
  "kernelspec": {
   "display_name": "Python 3",
   "language": "python",
   "name": "python3"
  }
 },
 "nbformat": 4,
 "nbformat_minor": 4
}
